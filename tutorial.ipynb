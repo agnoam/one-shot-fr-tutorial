{
 "cells": [
  {
   "cell_type": "markdown",
   "metadata": {},
   "source": [
    "# One-shot face recognition tutorial"
   ]
  },
  {
   "attachments": {},
   "cell_type": "markdown",
   "metadata": {},
   "source": [
    "This tutorial based on this [video](https://www.youtube.com/watch?v=LKispFFQ5GU) will use tensorflow v2 to create a face recognition model based on the one-shot architecture. <br/>\n",
    "\n",
    "The steps are:"
   ]
  },
  {
   "cell_type": "markdown",
   "metadata": {},
   "source": [
    "## Workspace setup"
   ]
  },
  {
   "cell_type": "markdown",
   "metadata": {},
   "source": [
    "Let's import all the shared libraries that notebook uses section-wide"
   ]
  },
  {
   "cell_type": "code",
   "execution_count": 101,
   "metadata": {},
   "outputs": [],
   "source": [
    "from os import path\n",
    "from typing import Final, Any\n",
    "\n",
    "from tqdm.auto import tqdm\n",
    "import matplotlib.pyplot as plt"
   ]
  },
  {
   "cell_type": "markdown",
   "metadata": {},
   "source": [
    "Let's create a workspace with all the necessary folders in it"
   ]
  },
  {
   "cell_type": "code",
   "execution_count": 2,
   "metadata": {},
   "outputs": [
    {
     "name": "stdout",
     "output_type": "stream",
     "text": [
      "All necessary folders created\n"
     ]
    }
   ],
   "source": [
    "import os\n",
    "\n",
    "WORKSPACE_DIR_PATH: Final[str] = 'tutorial_workspace'\n",
    "DOWNLOADS_PATH: Final[str] = path.join(WORKSPACE_DIR_PATH, 'downloads')\n",
    "ANCHORS_PATH: Final[str] = path.join(WORKSPACE_DIR_PATH, 'anchors')\n",
    "POSITIVES_PATH: Final[str] = path.join(WORKSPACE_DIR_PATH, 'positives')\n",
    "NEGATIVES_PATH: Final[str] = path.join(WORKSPACE_DIR_PATH, 'negatives')\n",
    "\n",
    "os.makedirs(DOWNLOADS_PATH, exist_ok=True)\n",
    "os.makedirs(ANCHORS_PATH, exist_ok=True)\n",
    "os.makedirs(POSITIVES_PATH, exist_ok=True)\n",
    "os.makedirs(NEGATIVES_PATH, exist_ok=True)\n",
    "\n",
    "print('All necessary folders created')"
   ]
  },
  {
   "cell_type": "markdown",
   "metadata": {},
   "source": [
    "## Data fetching"
   ]
  },
  {
   "cell_type": "markdown",
   "metadata": {},
   "source": [
    "To train a model a dataset is necessary. <br/>\n",
    "For that we will use the `LFW` dataset"
   ]
  },
  {
   "cell_type": "markdown",
   "metadata": {},
   "source": [
    "### Fetch dataset"
   ]
  },
  {
   "cell_type": "markdown",
   "metadata": {},
   "source": [
    "The dataset we will use named `LFW` and you can find it either in this [link](http://vis-www.cs.umass.edu/lfw/#download) or at the code below"
   ]
  },
  {
   "cell_type": "code",
   "execution_count": 3,
   "metadata": {},
   "outputs": [
    {
     "name": "stdout",
     "output_type": "stream",
     "text": [
      "Dataset already downloaded\n"
     ]
    }
   ],
   "source": [
    "import shutil\n",
    "import requests\n",
    "\n",
    "TAR_URL: Final[str] = 'http://vis-www.cs.umass.edu/lfw/lfw.tgz'\n",
    "FILE_NAME: Final[str] = 'lfw.tgz'\n",
    "file_path: str = path.join(DOWNLOADS_PATH, FILE_NAME)\n",
    "\n",
    "if not path.exists(file_path):\n",
    "    # Make an HTTP request within a context manager\n",
    "    with requests.get(TAR_URL, stream=True) as r:\n",
    "        \n",
    "        # Check header to get content length, in bytes\n",
    "        total_length = int(r.headers.get(\"Content-Length\"))\n",
    "        \n",
    "        # Implement progress bar via tqdm\n",
    "        with tqdm.wrapattr(r.raw, \"read\", total=total_length, desc=\"lfw.tar compressed dataset\") as raw:\n",
    "        \n",
    "            # Save the output to a file\n",
    "            with open(file_path, 'wb')as output:\n",
    "                shutil.copyfileobj(raw, output)\n",
    "else:\n",
    "    print('Dataset already downloaded')"
   ]
  },
  {
   "cell_type": "markdown",
   "metadata": {},
   "source": [
    "### Extract the dataset"
   ]
  },
  {
   "cell_type": "markdown",
   "metadata": {},
   "source": [
    "As described above, the model needs a lot faces that not match to the anchors. <br/>\n",
    "For that we will use the dataset we downloaded above.\n",
    "\n",
    "So, we will extract the compressed files. and put them into the `NEGATIVES_PATH`."
   ]
  },
  {
   "cell_type": "code",
   "execution_count": 6,
   "metadata": {},
   "outputs": [
    {
     "name": "stderr",
     "output_type": "stream",
     "text": [
      "100%|██████████| 13233/13233 [01:22<00:00, 159.45it/s]\n"
     ]
    }
   ],
   "source": [
    "import tarfile\n",
    "from typing import IO, Iterable\n",
    "\n",
    "file_path: str = path.join(DOWNLOADS_PATH, 'lfw.tgz')\n",
    "\n",
    "with tarfile.open(file_path, 'r:gz') as compressed_file:\n",
    "    # Filtering out all directories and non-jpg files\n",
    "    all_members: Iterable[tarfile.TarInfo] = [m for m in compressed_file.getmembers() if '.jpg' in m.name or '.png' in m.name]\n",
    "    \n",
    "    for member in tqdm(iterable=all_members, total=len(all_members)):\n",
    "        archive_filename: str = member.path.split('/')[-1]\n",
    "        filename: str = path.join(NEGATIVES_PATH, archive_filename)\n",
    "        \n",
    "        buffer_reader: IO[bytes] = compressed_file.extractfile(member)\n",
    "        with open(filename, 'wb') as file:\n",
    "            file.write(buffer_reader.read())"
   ]
  },
  {
   "cell_type": "markdown",
   "metadata": {},
   "source": [
    "### Collect positive and anchors data"
   ]
  },
  {
   "cell_type": "markdown",
   "metadata": {},
   "source": [
    "Until now, we successfully loaded the `LFW` dataset into our workspace as negative shots (observations).\n",
    "\n",
    "Now, let's dive into the positives.\n",
    "So, we can get those observations in many ways. Like taking shots from the camera, use existing images. <br/>\n",
    "Let's do both!"
   ]
  },
  {
   "cell_type": "markdown",
   "metadata": {},
   "source": [
    "#### Taking shots from webcam"
   ]
  },
  {
   "cell_type": "markdown",
   "metadata": {},
   "source": [
    "Before we take shots from the camera, we need to remember. The dataset has 250x250 pixels images. <br/>\n",
    "For the simplicity of this project, we will preffer to use the exact same size with the new shots.\n",
    "\n",
    "So remember, 250x250..."
   ]
  },
  {
   "attachments": {},
   "cell_type": "markdown",
   "metadata": {},
   "source": [
    "Don't forget to import necessary packages for that phase"
   ]
  },
  {
   "cell_type": "code",
   "execution_count": 3,
   "metadata": {},
   "outputs": [],
   "source": [
    "import cv2\n",
    "import uuid"
   ]
  },
  {
   "cell_type": "code",
   "execution_count": 4,
   "metadata": {},
   "outputs": [
    {
     "name": "stdout",
     "output_type": "stream",
     "text": [
      "The device is connected\n"
     ]
    }
   ],
   "source": [
    "# In case it not working properly, you can try with different index\n",
    "cap = cv2.VideoCapture(0)\n",
    "is_device_connected: bool = cap.isOpened()\n",
    "print(f\"The device is { 'connected' if is_device_connected else 'disconnected' }\")\n",
    "while is_device_connected:\n",
    "    ret, frame = cap.read()\n",
    "\n",
    "    # Cut a 250x250 pixels crop from the original feed\n",
    "    start_x: int = 200\n",
    "    start_y: int = 120\n",
    "    height: int = start_y + 250\n",
    "    width: int = start_x + 250\n",
    "    frame = frame[start_x:width, start_y:height, :]\n",
    "\n",
    "    # Collect anchor image\n",
    "    if cv2.waitKey(1) & 0XFF == ord('a'):\n",
    "        # Creating unique filename\n",
    "        generated_name: str = f'{uuid.uuid1()}.jpg'\n",
    "        img_name: str = path.join(ANCHORS_PATH, generated_name)\n",
    "        cv2.imwrite(img_name, frame)\n",
    "\n",
    "    # Collect positive image\n",
    "    if cv2.waitKey(1) & 0XFF == ord('p'):\n",
    "        # Creating unique filename\n",
    "        generated_name: str = f'{uuid.uuid1()}.jpg'\n",
    "        img_name: str = path.join(POSITIVES_PATH, generated_name)\n",
    "        cv2.imwrite(img_name, frame)\n",
    "\n",
    "    # Show image back to screen\n",
    "    cv2.imshow('Image collection', frame)\n",
    "\n",
    "    if cv2.waitKey(1) & 0XFF == ord('q'):\n",
    "        break\n",
    "\n",
    "cap.release()\n",
    "cv2.destroyAllWindows()"
   ]
  },
  {
   "cell_type": "code",
   "execution_count": null,
   "metadata": {},
   "outputs": [],
   "source": [
    "print('Frame shape:', frame.shape)\n",
    "plt.title('Last frame detected')\n",
    "plt.imshow(frame)"
   ]
  },
  {
   "attachments": {},
   "cell_type": "markdown",
   "metadata": {},
   "source": [
    "##### In case the code above not working"
   ]
  },
  {
   "attachments": {},
   "cell_type": "markdown",
   "metadata": {},
   "source": [
    "In case you don't know which `device id` to use in the opencv's video `device id`. <br />\n",
    "Let's search for all the devices available to take images from"
   ]
  },
  {
   "cell_type": "code",
   "execution_count": 3,
   "metadata": {},
   "outputs": [
    {
     "name": "stdout",
     "output_type": "stream",
     "text": [
      "Testing index 0\n",
      "Port 0 is working and reads images (480.0 x 640.0)\n",
      "Testing index 1\n",
      "Port 1 is not working.\n",
      "Testing index 2\n",
      "Port 2 is not working.\n",
      "Testing index 3\n",
      "Port 3 is not working.\n",
      "Testing index 4\n",
      "Port 4 is not working.\n",
      "Testing index 5\n",
      "Port 5 is not working.\n",
      "Testing index 6\n",
      "Port 6 is not working.\n",
      "([], [0], [1, 2, 3, 4, 5, 6])\n"
     ]
    }
   ],
   "source": [
    "def list_ports():\n",
    "    \"\"\"\n",
    "        Test the ports and returns a tuple with the available ports and the ones that are working.\n",
    "    \"\"\"\n",
    "    non_working_ports = []\n",
    "    dev_port = 0\n",
    "    working_ports = []\n",
    "    available_ports = []\n",
    "    while len(non_working_ports) < 6: # if there are more than 5 non working ports stop the testing. \n",
    "        print(f'Testing index {dev_port}')\n",
    "        camera = cv2.VideoCapture(dev_port)\n",
    "        if not camera.isOpened():\n",
    "            non_working_ports.append(dev_port)\n",
    "            print(\"Port %s is not working.\" %dev_port)\n",
    "        else:\n",
    "            is_reading, img = camera.read()\n",
    "            w = camera.get(3)\n",
    "            h = camera.get(4)\n",
    "            if is_reading:\n",
    "                print(\"Port %s is working and reads images (%s x %s)\" %(dev_port,h,w))\n",
    "                working_ports.append(dev_port)\n",
    "            else:\n",
    "                print(\"Port %s for camera ( %s x %s) is present but does not reads.\" %(dev_port,h,w))\n",
    "                available_ports.append(dev_port)\n",
    "        dev_port +=1\n",
    "    return available_ports,working_ports,non_working_ports\n",
    "\n",
    "print(list_ports())"
   ]
  },
  {
   "cell_type": "markdown",
   "metadata": {},
   "source": [
    "#### Load data from existing images"
   ]
  },
  {
   "attachments": {},
   "cell_type": "markdown",
   "metadata": {},
   "source": [
    "Alternitivly, you can load the positive and anchors images from existing images files. <br/>\n",
    "Just copy your images positive images into `$POSITIVES_PATH`, and the anchors will be copied into `ANCHORS_PATH`.\n",
    "\n",
    "Don't forget to make sure that the photos you are importing have to be at shape (resolution) of `250px*250px`"
   ]
  },
  {
   "cell_type": "markdown",
   "metadata": {},
   "source": [
    "## Preprocess"
   ]
  },
  {
   "cell_type": "markdown",
   "metadata": {},
   "source": [
    "All the data successfully collected. Let's start to prepare it to the training phase.\n",
    "\n",
    "So, what we will do in this phase is:\n",
    "* Create labeled dataset from the anchors, positives and negatives directories\n",
    "* Split the dataset into training and validation sets"
   ]
  },
  {
   "cell_type": "markdown",
   "metadata": {},
   "source": [
    "### Phase imports"
   ]
  },
  {
   "cell_type": "code",
   "execution_count": 28,
   "metadata": {},
   "outputs": [],
   "source": [
    "from typing import Union\n",
    "import tensorflow as tf\n",
    "from tf_agents.typing.types import EagerTensor"
   ]
  },
  {
   "cell_type": "markdown",
   "metadata": {},
   "source": [
    "### Data loading"
   ]
  },
  {
   "cell_type": "markdown",
   "metadata": {},
   "source": [
    "Let's verify that all of the images we will going to use, having the same 'shape' (dimensions). <br/>\n",
    "In case they are different, we will scale them to the apropriate dimensions."
   ]
  },
  {
   "cell_type": "code",
   "execution_count": 29,
   "metadata": {},
   "outputs": [
    {
     "data": {
      "text/plain": [
       "(<tensorflow.python.data.ops.dataset_ops._NumpyIterator at 0x1d673ea9660>,\n",
       " <tensorflow.python.data.ops.dataset_ops._NumpyIterator at 0x1d673ea8eb0>,\n",
       " <tensorflow.python.data.ops.dataset_ops._NumpyIterator at 0x1d673eaaa70>)"
      ]
     },
     "execution_count": 29,
     "metadata": {},
     "output_type": "execute_result"
    }
   ],
   "source": [
    "DATASET_SIZE: Final[int] = 300\n",
    "\n",
    "# Tensorflow will take all files matching to the pattern inside `list_files()`\n",
    "anchor: tf.data.Dataset = tf.data.Dataset.list_files(f'{ANCHORS_PATH}/*.jpg').take(DATASET_SIZE)\n",
    "positive: tf.data.Dataset = tf.data.Dataset.list_files(f'{POSITIVES_PATH}/*.jpg').take(DATASET_SIZE)\n",
    "negative: tf.data.Dataset = tf.data.Dataset.list_files(f'{NEGATIVES_PATH}/*.jpg').take(DATASET_SIZE)\n",
    "\n",
    "negative.as_numpy_iterator(), anchor.as_numpy_iterator(), positive.as_numpy_iterator()"
   ]
  },
  {
   "cell_type": "markdown",
   "metadata": {},
   "source": [
    "Example: This how you can iterate over a tensorlow Dataset class (in this case we will run over the anchors)"
   ]
  },
  {
   "cell_type": "code",
   "execution_count": 30,
   "metadata": {},
   "outputs": [
    {
     "data": {
      "text/plain": [
       "b'tutorial_workspace\\\\anchors\\\\de5caf61-9cb0-11ed-90af-b808cf4c5169.jpg'"
      ]
     },
     "execution_count": 30,
     "metadata": {},
     "output_type": "execute_result"
    }
   ],
   "source": [
    "anchor.as_numpy_iterator().next()"
   ]
  },
  {
   "cell_type": "markdown",
   "metadata": {},
   "source": [
    "### Scale and resize the images"
   ]
  },
  {
   "cell_type": "code",
   "execution_count": 31,
   "metadata": {},
   "outputs": [],
   "source": [
    "def preprocess(file_path: str):\n",
    "    # Read image bytes from file path\n",
    "    byte_image = tf.io.read_file(file_path)\n",
    "    \n",
    "    # Loading the bytes as image\n",
    "    image = tf.io.decode_jpeg(byte_image)\n",
    "\n",
    "    # Resize the image to 100x100 pixels\n",
    "    image: EagerTensor = tf.image.resize(image, (100, 100))\n",
    "    \n",
    "    # Devide each pixel between (0 and 1) instead of (0 and 255)\n",
    "    image /= 255.0\n",
    "\n",
    "    return image"
   ]
  },
  {
   "cell_type": "markdown",
   "metadata": {},
   "source": [
    "Just to be sure, let's verify that the pre process have done successfully."
   ]
  },
  {
   "cell_type": "code",
   "execution_count": null,
   "metadata": {},
   "outputs": [],
   "source": [
    "# Duplicate one of the lists \n",
    "_dup_anchor = anchor.as_numpy_iterator()\n",
    "\n",
    "# Running the preprocess on the current image\n",
    "img = preprocess(_dup_anchor.next())\n",
    "\n",
    "print('Minimum value in tensor (should be 0):', img.numpy().min())\n",
    "print('Max value in tensor (should be 1):', img.numpy().max())\n",
    "print('Image shape (should be (100, 100, 3)):', img.numpy().shape)\n",
    "plt.imshow(img)"
   ]
  },
  {
   "cell_type": "markdown",
   "metadata": {},
   "source": [
    "### Create the labeled dataset"
   ]
  },
  {
   "cell_type": "markdown",
   "metadata": {},
   "source": [
    "To train the model, we will need to give it:\n",
    "* Positive observations (which means anchor image, positive image and result of 1).\n",
    "* Negative observations (which means anchor image, negative and result of 0).\n",
    "\n",
    "For that we will create two datasets, one for positive and one for negative. And concatenate them together."
   ]
  },
  {
   "cell_type": "code",
   "execution_count": 34,
   "metadata": {},
   "outputs": [],
   "source": [
    "positive_labels = tf.data.Dataset.from_tensor_slices(tf.ones(len(anchor))) # Create a vector with shape of positive images\n",
    "negative_labels = tf.data.Dataset.from_tensor_slices(tf.zeros(len(anchor))) # Create a vector with shape of negative images\n",
    "\n",
    "# Telling the data loader to load each of those images with the proper label simultaneously \n",
    "positive_dataset = tf.data.Dataset.zip((anchor, positive, positive_labels))\n",
    "negative_dataset = tf.data.Dataset.zip((anchor, negative, negative_labels))\n",
    "\n",
    "# Concatenating the positive and negative datasets into a single dataset\n",
    "dataset = positive_dataset.concatenate(negative_dataset)"
   ]
  },
  {
   "cell_type": "markdown",
   "metadata": {},
   "source": [
    "#### Little example"
   ]
  },
  {
   "cell_type": "code",
   "execution_count": 35,
   "metadata": {},
   "outputs": [
    {
     "data": {
      "text/plain": [
       "<ConcatenateDataset element_spec=(TensorSpec(shape=(), dtype=tf.string, name=None), TensorSpec(shape=(), dtype=tf.string, name=None), TensorSpec(shape=(), dtype=tf.float32, name=None))>"
      ]
     },
     "execution_count": 35,
     "metadata": {},
     "output_type": "execute_result"
    }
   ],
   "source": [
    "sample = dataset.as_numpy_iterator()\n",
    "dataset"
   ]
  },
  {
   "cell_type": "code",
   "execution_count": 36,
   "metadata": {},
   "outputs": [
    {
     "data": {
      "text/plain": [
       "(b'tutorial_workspace\\\\anchors\\\\d9f50c46-9cb0-11ed-925b-b808cf4c5169.jpg',\n",
       " b'tutorial_workspace\\\\positives\\\\d99051b8-9cb0-11ed-a54b-b808cf4c5169.jpg',\n",
       " 1.0)"
      ]
     },
     "execution_count": 36,
     "metadata": {},
     "output_type": "execute_result"
    }
   ],
   "source": [
    "sample.next()"
   ]
  },
  {
   "cell_type": "markdown",
   "metadata": {},
   "source": [
    "### Build train and test dataset partitions"
   ]
  },
  {
   "cell_type": "markdown",
   "metadata": {},
   "source": [
    "Let's load all the images from it's path, and put them the proper label"
   ]
  },
  {
   "cell_type": "code",
   "execution_count": 37,
   "metadata": {},
   "outputs": [],
   "source": [
    "def preprocess_twin(input_img: str, validation_img: str, label: int) -> tuple[Any, Any, int]:\n",
    "    return (preprocess(input_img), preprocess(validation_img), label)"
   ]
  },
  {
   "cell_type": "markdown",
   "metadata": {},
   "source": [
    "Let's test this function"
   ]
  },
  {
   "cell_type": "code",
   "execution_count": 38,
   "metadata": {},
   "outputs": [
    {
     "data": {
      "text/plain": [
       "(<tf.Tensor: shape=(100, 100, 3), dtype=float32, numpy=\n",
       " array([[[0.57254905, 0.60784316, 0.6039216 ],\n",
       "         [0.5742647 , 0.6095588 , 0.60563725],\n",
       "         [0.5735294 , 0.60882354, 0.60490197],\n",
       "         ...,\n",
       "         [0.61960787, 0.6627451 , 0.64705884],\n",
       "         [0.622549  , 0.66568625, 0.65      ],\n",
       "         [0.622549  , 0.66568625, 0.65      ]],\n",
       " \n",
       "        [[0.5732843 , 0.60857844, 0.6046569 ],\n",
       "         [0.56789213, 0.60318625, 0.5992647 ],\n",
       "         [0.56960785, 0.60784316, 0.6039216 ],\n",
       "         ...,\n",
       "         [0.6193628 , 0.6634804 , 0.6477941 ],\n",
       "         [0.6186274 , 0.6627451 , 0.64705884],\n",
       "         [0.6186274 , 0.6627451 , 0.64705884]],\n",
       " \n",
       "        [[0.5688726 , 0.6041667 , 0.6002451 ],\n",
       "         [0.5627451 , 0.6009804 , 0.59705883],\n",
       "         [0.5688726 , 0.60784316, 0.6039216 ],\n",
       "         ...,\n",
       "         [0.6159314 , 0.6629902 , 0.64730394],\n",
       "         [0.61960787, 0.6666667 , 0.6509804 ],\n",
       "         [0.6166667 , 0.6637255 , 0.6480392 ]],\n",
       " \n",
       "        ...,\n",
       " \n",
       "        [[0.0875    , 0.07965686, 0.03259804],\n",
       "         [0.08651961, 0.07769608, 0.03357843],\n",
       "         [0.0872549 , 0.0754902 , 0.04019608],\n",
       "         ...,\n",
       "         [0.14289215, 0.14583333, 0.09289216],\n",
       "         [0.14313726, 0.14607844, 0.09313726],\n",
       "         [0.12352941, 0.12745099, 0.07254902]],\n",
       " \n",
       "        [[0.09044117, 0.08259804, 0.03553922],\n",
       "         [0.08651961, 0.07769608, 0.03357843],\n",
       "         [0.08137255, 0.06960785, 0.03431373],\n",
       "         ...,\n",
       "         [0.15196079, 0.15196079, 0.10490196],\n",
       "         [0.14485294, 0.14485294, 0.09779412],\n",
       "         [0.10073529, 0.10171568, 0.05269608]],\n",
       " \n",
       "        [[0.08529412, 0.07745098, 0.03039216],\n",
       "         [0.08529412, 0.07647059, 0.03235294],\n",
       "         [0.0754902 , 0.06372549, 0.02843137],\n",
       "         ...,\n",
       "         [0.15490197, 0.15490197, 0.10784314],\n",
       "         [0.12254902, 0.12254902, 0.0754902 ],\n",
       "         [0.07352941, 0.07352941, 0.02647059]]], dtype=float32)>,\n",
       " <tf.Tensor: shape=(100, 100, 3), dtype=float32, numpy=\n",
       " array([[[0.5683824 , 0.60759807, 0.6036765 ],\n",
       "         [0.56691176, 0.60612744, 0.6022059 ],\n",
       "         [0.56691176, 0.60906863, 0.59632355],\n",
       "         ...,\n",
       "         [0.62058824, 0.6637255 , 0.6480392 ],\n",
       "         [0.62352943, 0.6666667 , 0.6509804 ],\n",
       "         [0.62352943, 0.6666667 , 0.6509804 ]],\n",
       " \n",
       "        [[0.56764704, 0.6068627 , 0.60294116],\n",
       "         [0.5629902 , 0.6022059 , 0.5982843 ],\n",
       "         [0.5615196 , 0.6007353 , 0.59681374],\n",
       "         ...,\n",
       "         [0.6117647 , 0.65882355, 0.64509803],\n",
       "         [0.6156863 , 0.6627451 , 0.6490196 ],\n",
       "         [0.61960787, 0.6666667 , 0.65294117]],\n",
       " \n",
       "        [[0.5615196 , 0.6007353 , 0.59681374],\n",
       "         [0.55759805, 0.59681374, 0.59289217],\n",
       "         [0.5637255 , 0.60294116, 0.5990196 ],\n",
       "         ...,\n",
       "         [0.6156863 , 0.6627451 , 0.654902  ],\n",
       "         [0.6164216 , 0.6634804 , 0.65563726],\n",
       "         [0.6156863 , 0.6627451 , 0.654902  ]],\n",
       " \n",
       "        ...,\n",
       " \n",
       "        [[0.10588235, 0.09411765, 0.05882353],\n",
       "         [0.11372549, 0.10196079, 0.06666667],\n",
       "         [0.11764706, 0.10588235, 0.07058824],\n",
       "         ...,\n",
       "         [0.12671569, 0.12181372, 0.06838235],\n",
       "         [0.11862745, 0.11372549, 0.05441177],\n",
       "         [0.11078431, 0.10294118, 0.04411765]],\n",
       " \n",
       "        [[0.1127451 , 0.10098039, 0.06568628],\n",
       "         [0.11299019, 0.10122549, 0.06593137],\n",
       "         [0.11666667, 0.10490196, 0.06960785],\n",
       "         ...,\n",
       "         [0.09289216, 0.09387255, 0.04485294],\n",
       "         [0.09730392, 0.10122549, 0.04632353],\n",
       "         [0.10882353, 0.10980392, 0.05392157]],\n",
       " \n",
       "        [[0.10882353, 0.09705883, 0.06176471],\n",
       "         [0.11544117, 0.10367647, 0.06838235],\n",
       "         [0.11764706, 0.10588235, 0.07058824],\n",
       "         ...,\n",
       "         [0.06764706, 0.06764706, 0.02647059],\n",
       "         [0.08406863, 0.0870098 , 0.03406863],\n",
       "         [0.10220588, 0.10612745, 0.05122549]]], dtype=float32)>,\n",
       " 1.0)"
      ]
     },
     "execution_count": 38,
     "metadata": {},
     "output_type": "execute_result"
    }
   ],
   "source": [
    "example = sample.next()\n",
    "res = preprocess_twin(*example)\n",
    "res"
   ]
  },
  {
   "cell_type": "markdown",
   "metadata": {},
   "source": [
    "#### Example"
   ]
  },
  {
   "cell_type": "markdown",
   "metadata": {},
   "source": [
    "So, after we have tested everything. Let's put all the things together. And build our dataloader pipline"
   ]
  },
  {
   "cell_type": "code",
   "execution_count": 39,
   "metadata": {},
   "outputs": [
    {
     "data": {
      "text/plain": [
       "<ShuffleDataset element_spec=(TensorSpec(shape=(100, 100, None), dtype=tf.float32, name=None), TensorSpec(shape=(100, 100, None), dtype=tf.float32, name=None), TensorSpec(shape=(), dtype=tf.float32, name=None))>"
      ]
     },
     "execution_count": 39,
     "metadata": {},
     "output_type": "execute_result"
    }
   ],
   "source": [
    "dataset = dataset.map(preprocess_twin) # Running all over the dataset with the `preprocess_twin` function\n",
    "dataset = dataset.cache() # Caching the images\n",
    "dataset = dataset.shuffle(buffer_size=1024) # Shuffling the dataset\n",
    "dataset"
   ]
  },
  {
   "cell_type": "code",
   "execution_count": null,
   "metadata": {},
   "outputs": [],
   "source": [
    "samp = dataset.as_numpy_iterator().next()\n",
    "\n",
    "print('Label is:', samp[2])\n",
    "plt.imshow(samp[0])"
   ]
  },
  {
   "cell_type": "code",
   "execution_count": null,
   "metadata": {},
   "outputs": [],
   "source": [
    "plt.imshow(samp[1])"
   ]
  },
  {
   "cell_type": "markdown",
   "metadata": {},
   "source": [
    "#### Make training and test dataset partitions"
   ]
  },
  {
   "cell_type": "markdown",
   "metadata": {},
   "source": [
    "Shared variables for this section"
   ]
  },
  {
   "cell_type": "code",
   "execution_count": 42,
   "metadata": {},
   "outputs": [],
   "source": [
    "LEARNING_BATCH_SIZE: Final[int] = 16\n",
    "LEARNING_PREFETCH_SIZE: Final[int] = 8\n",
    "\n",
    "TRAIN_PARTITION_SIZE: Final[int] = round(len(dataset) * .7) # Get 70% of the dataset for training\n",
    "TEST_PARTITION_SIZE: Final[int] = round(len(dataset) * .3) # Get 30% of the dataset for testing"
   ]
  },
  {
   "cell_type": "markdown",
   "metadata": {},
   "source": [
    "The training partition setup:"
   ]
  },
  {
   "cell_type": "code",
   "execution_count": 43,
   "metadata": {},
   "outputs": [
    {
     "data": {
      "text/plain": [
       "<PrefetchDataset element_spec=(TensorSpec(shape=(None, 100, 100, None), dtype=tf.float32, name=None), TensorSpec(shape=(None, 100, 100, None), dtype=tf.float32, name=None), TensorSpec(shape=(None,), dtype=tf.float32, name=None))>"
      ]
     },
     "execution_count": 43,
     "metadata": {},
     "output_type": "execute_result"
    }
   ],
   "source": [
    "training_data: tf.data.Dataset = dataset.take(TRAIN_PARTITION_SIZE)\n",
    "training_data: tf.data.Dataset = training_data.batch(LEARNING_BATCH_SIZE) # Set batch size of 16\n",
    "training_data: tf.data.Dataset = training_data.prefetch(LEARNING_PREFETCH_SIZE)\n",
    "training_data"
   ]
  },
  {
   "cell_type": "markdown",
   "metadata": {},
   "source": [
    "Setup testing partition"
   ]
  },
  {
   "cell_type": "code",
   "execution_count": 44,
   "metadata": {},
   "outputs": [
    {
     "data": {
      "text/plain": [
       "<PrefetchDataset element_spec=(TensorSpec(shape=(None, 100, 100, None), dtype=tf.float32, name=None), TensorSpec(shape=(None, 100, 100, None), dtype=tf.float32, name=None), TensorSpec(shape=(None,), dtype=tf.float32, name=None))>"
      ]
     },
     "execution_count": 44,
     "metadata": {},
     "output_type": "execute_result"
    }
   ],
   "source": [
    "test_data: tf.data.Dataset = dataset.skip(TRAIN_PARTITION_SIZE) # Skipping of all the training partition data\n",
    "test_data: tf.data.Dataset = test_data.take(TEST_PARTITION_SIZE)\n",
    "test_data: tf.data.Dataset = test_data.batch(LEARNING_BATCH_SIZE)\n",
    "test_data: tf.data.Dataset = test_data.prefetch(LEARNING_PREFETCH_SIZE)\n",
    "test_data"
   ]
  },
  {
   "cell_type": "markdown",
   "metadata": {},
   "source": [
    "## Model engineering"
   ]
  },
  {
   "cell_type": "markdown",
   "metadata": {},
   "source": [
    "### Shared imports for this section"
   ]
  },
  {
   "cell_type": "code",
   "execution_count": 52,
   "metadata": {},
   "outputs": [],
   "source": [
    "from keras.models import Model\n",
    "from keras.layers import Layer, Conv2D, Dense, MaxPooling2D, Input, Flatten"
   ]
  },
  {
   "cell_type": "code",
   "execution_count": 46,
   "metadata": {},
   "outputs": [],
   "source": [
    "from typing import Tuple\n",
    "\n",
    "# 100x100 px, with 3 colors channels (RGB)\n",
    "INPUT_IMAGE_SHAPE: Final[Tuple] = (100, 100, 3)"
   ]
  },
  {
   "cell_type": "markdown",
   "metadata": {},
   "source": [
    "### GPU memory limit"
   ]
  },
  {
   "cell_type": "markdown",
   "metadata": {},
   "source": [
    "In case you have a GPU installed on your machine. It's recommended to set a memory limit"
   ]
  },
  {
   "cell_type": "code",
   "execution_count": null,
   "metadata": {},
   "outputs": [],
   "source": [
    "# Avoid OOM errors by setting GPU Memory Consumption Growth\n",
    "gpus = tf.config.experimental.list_physical_devices('GPU')\n",
    "for gpu in gpus:\n",
    "    tf.config.experimental.set_memory_growth(gpu, True)"
   ]
  },
  {
   "cell_type": "markdown",
   "metadata": {},
   "source": [
    "### Build the embedding layer"
   ]
  },
  {
   "cell_type": "code",
   "execution_count": 53,
   "metadata": {},
   "outputs": [],
   "source": [
    "def make_embedding() -> Model:\n",
    "    # Creating the input layer\n",
    "    input_layer = Input(shape=INPUT_IMAGE_SHAPE, name='input_image')\n",
    "\n",
    "    # First block\n",
    "    c1 = Conv2D(64, (10, 10), activation='relu')(input_layer)\n",
    "    m1 = MaxPooling2D(64, (2, 2), padding='same')(c1)\n",
    "\n",
    "    # Second bloc\n",
    "    c2 = Conv2D(128, (7, 7), activation='relu')(m1)\n",
    "    m2 = MaxPooling2D(64, (2, 2), padding='same')(c2)\n",
    "\n",
    "    # Third block\n",
    "    c3 = Conv2D(128, (4, 4), activation='relu')(m2)\n",
    "    m3 = MaxPooling2D(64, (2, 2), padding='same')(c3)\n",
    "\n",
    "    # Final embedding block\n",
    "    c4 = Conv2D(256, (4,4), activation='relu')(m3)\n",
    "    f1 = Flatten()(c4)\n",
    "    d1 = Dense(4096, activation='sigmoid')(f1)\n",
    "\n",
    "    return Model(inputs=[input_layer], outputs=[d1], name='embedding')"
   ]
  },
  {
   "cell_type": "markdown",
   "metadata": {},
   "source": [
    "So, let's try to compile it"
   ]
  },
  {
   "cell_type": "code",
   "execution_count": 54,
   "metadata": {},
   "outputs": [
    {
     "name": "stdout",
     "output_type": "stream",
     "text": [
      "Model: \"embedding\"\n",
      "_________________________________________________________________\n",
      " Layer (type)                Output Shape              Param #   \n",
      "=================================================================\n",
      " input_image (InputLayer)    [(None, 100, 100, 3)]     0         \n",
      "                                                                 \n",
      " conv2d_8 (Conv2D)           (None, 91, 91, 64)        19264     \n",
      "                                                                 \n",
      " max_pooling2d_6 (MaxPooling  (None, 46, 46, 64)       0         \n",
      " 2D)                                                             \n",
      "                                                                 \n",
      " conv2d_9 (Conv2D)           (None, 40, 40, 128)       401536    \n",
      "                                                                 \n",
      " max_pooling2d_7 (MaxPooling  (None, 20, 20, 128)      0         \n",
      " 2D)                                                             \n",
      "                                                                 \n",
      " conv2d_10 (Conv2D)          (None, 17, 17, 128)       262272    \n",
      "                                                                 \n",
      " max_pooling2d_8 (MaxPooling  (None, 9, 9, 128)        0         \n",
      " 2D)                                                             \n",
      "                                                                 \n",
      " conv2d_11 (Conv2D)          (None, 6, 6, 256)         524544    \n",
      "                                                                 \n",
      " flatten_2 (Flatten)         (None, 9216)              0         \n",
      "                                                                 \n",
      " dense_3 (Dense)             (None, 4096)              37752832  \n",
      "                                                                 \n",
      "=================================================================\n",
      "Total params: 38,960,448\n",
      "Trainable params: 38,960,448\n",
      "Non-trainable params: 0\n",
      "_________________________________________________________________\n"
     ]
    }
   ],
   "source": [
    "# Creating the embedding model/layer and showing the summary of it\n",
    "embedding: Model = make_embedding()\n",
    "embedding.summary()"
   ]
  },
  {
   "cell_type": "markdown",
   "metadata": {},
   "source": [
    "### Build Distance Layer"
   ]
  },
  {
   "cell_type": "markdown",
   "metadata": {},
   "source": [
    "TODO: Need to check if arcface will perform better than this"
   ]
  },
  {
   "cell_type": "code",
   "execution_count": 55,
   "metadata": {},
   "outputs": [],
   "source": [
    "# Siamese L1 Distance class\n",
    "class L1Dist(Layer):\n",
    "    \n",
    "    # Init method - inheritance\n",
    "    def __init__(self, **kwargs) -> None:\n",
    "        super().__init__()\n",
    "\n",
    "    # Smiliarity calculation\n",
    "    def call(self, input_embeddings, validation_embeddings) -> Any:\n",
    "        return tf.math.abs(input_embeddings - validation_embeddings)"
   ]
  },
  {
   "cell_type": "markdown",
   "metadata": {},
   "source": [
    "### Making Siamese Model"
   ]
  },
  {
   "cell_type": "code",
   "execution_count": 56,
   "metadata": {},
   "outputs": [],
   "source": [
    "def make_siamese_model() -> Model:\n",
    "    # Anchor image input in the network\n",
    "    input_image = Input(name='input_image', shape=INPUT_IMAGE_SHAPE)\n",
    "\n",
    "    # Validation image in the network\n",
    "    validation_image = Input(name='validation_image', shape=INPUT_IMAGE_SHAPE)\n",
    "\n",
    "    # Combine siamese distance components\n",
    "    siamese_layer = L1Dist()\n",
    "    siamese_layer._name = 'distance'\n",
    "    distances = siamese_layer(embedding(input_image), embedding(validation_image))\n",
    "\n",
    "    # Classification layer\n",
    "    classifier = Dense(1, activation='sigmoid')(distances)\n",
    "    return Model(inputs=[input_image, validation_image], outputs=classifier, name='SiameseNetwork')"
   ]
  },
  {
   "cell_type": "markdown",
   "metadata": {},
   "source": [
    "Compilation of this network"
   ]
  },
  {
   "cell_type": "code",
   "execution_count": 57,
   "metadata": {},
   "outputs": [
    {
     "name": "stdout",
     "output_type": "stream",
     "text": [
      "Model: \"SiameseNetwork\"\n",
      "__________________________________________________________________________________________________\n",
      " Layer (type)                   Output Shape         Param #     Connected to                     \n",
      "==================================================================================================\n",
      " input_image (InputLayer)       [(None, 100, 100, 3  0           []                               \n",
      "                                )]                                                                \n",
      "                                                                                                  \n",
      " validation_image (InputLayer)  [(None, 100, 100, 3  0           []                               \n",
      "                                )]                                                                \n",
      "                                                                                                  \n",
      " embedding (Functional)         (None, 4096)         38960448    ['input_image[0][0]',            \n",
      "                                                                  'validation_image[0][0]']       \n",
      "                                                                                                  \n",
      " distance (L1Dist)              (None, 4096)         0           ['embedding[0][0]',              \n",
      "                                                                  'embedding[1][0]']              \n",
      "                                                                                                  \n",
      " dense_4 (Dense)                (None, 1)            4097        ['distance[0][0]']               \n",
      "                                                                                                  \n",
      "==================================================================================================\n",
      "Total params: 38,964,545\n",
      "Trainable params: 38,964,545\n",
      "Non-trainable params: 0\n",
      "__________________________________________________________________________________________________\n"
     ]
    }
   ],
   "source": [
    "# Creating the embedding model/layer and showing the summary of it\n",
    "siamese_model: Model = make_siamese_model()\n",
    "siamese_model.summary()"
   ]
  },
  {
   "attachments": {},
   "cell_type": "markdown",
   "metadata": {},
   "source": [
    "## Training the model"
   ]
  },
  {
   "attachments": {},
   "cell_type": "markdown",
   "metadata": {},
   "source": [
    "The steps we will follow:\n",
    "1. Setup a loss function\n",
    "2. Setup an optimizer\n",
    "3. Build a Custom training step\n",
    "4. Create a Training loop\n",
    "5. Train the model"
   ]
  },
  {
   "attachments": {},
   "cell_type": "markdown",
   "metadata": {},
   "source": [
    "Imports for that step"
   ]
  },
  {
   "cell_type": "code",
   "execution_count": 79,
   "metadata": {},
   "outputs": [],
   "source": [
    "from keras.optimizers import Adam\n",
    "from keras.losses import BinaryCrossentropy\n",
    "import numpy as np\n",
    "from keras.preprocessing.image import NumpyArrayIterator\n",
    "from keras.utils import Progbar"
   ]
  },
  {
   "attachments": {},
   "cell_type": "markdown",
   "metadata": {},
   "source": [
    "### Setup the loss and Optimizer"
   ]
  },
  {
   "attachments": {},
   "cell_type": "markdown",
   "metadata": {},
   "source": [
    "We can find more optiomizers in [keras optimizers](https://keras.io/api/optimizers)"
   ]
  },
  {
   "cell_type": "code",
   "execution_count": 58,
   "metadata": {},
   "outputs": [],
   "source": [
    "binary_cross_loss = tf.losses.BinaryCrossentropy()\n",
    "opt: Adam = tf.keras.optimizers.Adam(1e-4) # 0.0001"
   ]
  },
  {
   "attachments": {},
   "cell_type": "markdown",
   "metadata": {},
   "source": [
    "### Setup training backup"
   ]
  },
  {
   "attachments": {},
   "cell_type": "markdown",
   "metadata": {},
   "source": [
    "To defend from the case where the training step is unwillingly stopped. <br />\n",
    "Let's establish checkpoints. <br />\n",
    "This means that in case the training process stopping without notice, we can continue the training process from where we stopped."
   ]
  },
  {
   "cell_type": "code",
   "execution_count": 59,
   "metadata": {},
   "outputs": [],
   "source": [
    "checkpoint_dir: str = os.path.join(WORKSPACE_DIR_PATH, '.cache', 'training_checkpoints')\n",
    "checkpoint_prefix: str = os.path.join(checkpoint_dir, 'ckpt')\n",
    "checkpoint = tf.train.Checkpoint(opt=opt, siamese_model=siamese_model)"
   ]
  },
  {
   "attachments": {},
   "cell_type": "markdown",
   "metadata": {},
   "source": [
    "Whenever you need to reload the checkpoint you can just use the: `model.load(<path-to-checkpoint>)`. <br />\n",
    "This command will load the pre trained weights into the existing model."
   ]
  },
  {
   "attachments": {},
   "cell_type": "markdown",
   "metadata": {},
   "source": [
    "### Build training step function"
   ]
  },
  {
   "attachments": {},
   "cell_type": "markdown",
   "metadata": {},
   "source": [
    "Basic steps for training in one batch is as follows:\n",
    "1. Make a prediction - about the observation\n",
    "2. Calculate the loss - compare with the real answer\n",
    "3. Derive gradients\n",
    "4. Calculate new weights and apply them to the model"
   ]
  },
  {
   "cell_type": "code",
   "execution_count": 77,
   "metadata": {},
   "outputs": [],
   "source": [
    "test_batch = training_data.as_numpy_iterator()\n",
    "batch: NumpyArrayIterator = test_batch.next()"
   ]
  },
  {
   "attachments": {},
   "cell_type": "markdown",
   "metadata": {},
   "source": [
    "We taking the training data and making it a numpy iterator. <br />\n",
    "Each of the indecies in the iterator is constructed from 3 another arrays.\n",
    "Let's write them by it's order:\n",
    "1. The anchors that we training on them\n",
    "2. The positive/negatives samples\n",
    "3. The labels of each sample (to know which sample was it)\n",
    "\n",
    "Don't forget that each the counting in those arrays starts from 0"
   ]
  },
  {
   "cell_type": "code",
   "execution_count": 70,
   "metadata": {},
   "outputs": [
    {
     "name": "stdout",
     "output_type": "stream",
     "text": [
      "anchors (16): [[[[0.5647059  0.6039216  0.6       ]\n",
      "   [0.56642157 0.60563725 0.6017157 ]\n",
      "   [0.5715686  0.6107843  0.6068627 ]\n",
      "   ...\n",
      "   [0.62352943 0.6666667  0.6509804 ]\n",
      "   [0.61985296 0.6629902  0.64730394]\n",
      "   [0.62352943 0.6666667  0.6509804 ]]\n",
      "\n",
      "  [[0.5637255  0.60294116 0.5990196 ]\n",
      "   [0.5656863  0.60490197 0.6009804 ]\n",
      "   [0.5708333  0.610049   0.60612744]\n",
      "   ...\n",
      "   [0.6193628  0.6634804  0.6477941 ]\n",
      "   [0.6223039  0.6664216  0.6507353 ]\n",
      "   [0.6186274  0.6627451  0.64705884]]\n",
      "\n",
      "  [[0.5598039  0.5990196  0.595098  ]\n",
      "   [0.5647059  0.6039216  0.6       ]\n",
      "   [0.56764704 0.6068627  0.60294116]\n",
      "   ...\n",
      "   [0.6127451  0.6598039  0.64411765]\n",
      "   [0.6127451  0.6598039  0.64411765]\n",
      "   [0.6156863  0.6627451  0.64705884]]\n",
      "\n",
      "  ...\n",
      "\n",
      "  [[0.11764706 0.09313726 0.05294118]\n",
      "   [0.12034313 0.09583333 0.05563726]\n",
      "   [0.12034313 0.09583333 0.05563726]\n",
      "   ...\n",
      "   [0.15465686 0.15857843 0.09779412]\n",
      "   [0.09583333 0.0997549  0.03897059]\n",
      "   [0.11299019 0.10514706 0.04828431]]\n",
      "\n",
      "  [[0.10784314 0.09215686 0.04901961]\n",
      "   [0.11004902 0.09436274 0.05122549]\n",
      "   [0.10857843 0.09730392 0.05196078]\n",
      "   ...\n",
      "   [0.12058824 0.1245098  0.06960785]\n",
      "   [0.08578432 0.08970588 0.03480392]\n",
      "   [0.11960784 0.12058824 0.06666667]]\n",
      "\n",
      "  [[0.10196079 0.08627451 0.04313726]\n",
      "   [0.11176471 0.10392157 0.05686275]\n",
      "   [0.11372549 0.10588235 0.05882353]\n",
      "   ...\n",
      "   [0.0875     0.09142157 0.03651961]\n",
      "   [0.08406863 0.08799019 0.03308824]\n",
      "   [0.12254902 0.1264706  0.07156863]]]\n",
      "\n",
      "\n",
      " [[[0.5715686  0.6068627  0.60294116]\n",
      "   [0.5686275  0.6039216  0.6       ]\n",
      "   [0.57254905 0.60784316 0.6039216 ]\n",
      "   ...\n",
      "   [0.62671566 0.6698529  0.65416664]\n",
      "   [0.6257353  0.66593134 0.65906864]\n",
      "   [0.6245098  0.6637255  0.6598039 ]]\n",
      "\n",
      "  [[0.5715686  0.60784316 0.6039216 ]\n",
      "   [0.5715686  0.60784316 0.6039216 ]\n",
      "   [0.5737745  0.610049   0.60612744]\n",
      "   ...\n",
      "   [0.6218137  0.66593134 0.6502451 ]\n",
      "   [0.622549   0.6666667  0.6509804 ]\n",
      "   [0.6254902  0.6696078  0.65392154]]\n",
      "\n",
      "  [[0.56764704 0.6068627  0.60294116]\n",
      "   [0.56642157 0.60563725 0.6017157 ]\n",
      "   [0.5686275  0.60784316 0.6039216 ]\n",
      "   ...\n",
      "   [0.6166667  0.6666667  0.64215684]\n",
      "   [0.6227941  0.6727941  0.6482843 ]\n",
      "   [0.6166667  0.6666667  0.64215684]]\n",
      "\n",
      "  ...\n",
      "\n",
      "  [[0.07450981 0.07450981 0.0372549 ]\n",
      "   [0.07696079 0.0747549  0.0382353 ]\n",
      "   [0.09803922 0.08921569 0.05490196]\n",
      "   ...\n",
      "   [0.12941177 0.13333334 0.07647059]\n",
      "   [0.15514706 0.15906863 0.09632353]\n",
      "   [0.16078432 0.16470589 0.09411765]]\n",
      "\n",
      "  [[0.06397059 0.06691176 0.03553922]\n",
      "   [0.07058824 0.07058824 0.03921569]\n",
      "   [0.08210784 0.08210784 0.05073529]\n",
      "   ...\n",
      "   [0.13333334 0.13725491 0.08039216]\n",
      "   [0.15588236 0.15980393 0.09705883]\n",
      "   [0.15490197 0.15882353 0.0882353 ]]\n",
      "\n",
      "  [[0.07058824 0.07450981 0.04313726]\n",
      "   [0.0754902  0.07843138 0.04705882]\n",
      "   [0.07843138 0.07843138 0.04705882]\n",
      "   ...\n",
      "   [0.1245098  0.12843138 0.07156863]\n",
      "   [0.14313726 0.14705883 0.08431373]\n",
      "   [0.13529412 0.1392157  0.06862745]]]\n",
      "\n",
      "\n",
      " [[[0.5806373  0.6041667  0.6041667 ]\n",
      "   [0.5806373  0.6041667  0.6041667 ]\n",
      "   [0.57843137 0.6019608  0.6019608 ]\n",
      "   ...\n",
      "   [0.61960787 0.6598039  0.65294117]\n",
      "   [0.61960787 0.6627451  0.64705884]\n",
      "   [0.6237745  0.6669118  0.6512255 ]]\n",
      "\n",
      "  [[0.5754902  0.6019608  0.6009804 ]\n",
      "   [0.5745098  0.6009804  0.6       ]\n",
      "   [0.5708333  0.6039216  0.6007353 ]\n",
      "   ...\n",
      "   [0.6186274  0.6627451  0.64705884]\n",
      "   [0.61789215 0.6620098  0.6463235 ]\n",
      "   [0.6186274  0.6627451  0.64705884]]\n",
      "\n",
      "  [[0.5637255  0.6019608  0.5980392 ]\n",
      "   [0.5625     0.6007353  0.59681374]\n",
      "   [0.5686275  0.6068627  0.60294116]\n",
      "   ...\n",
      "   [0.6156863  0.6627451  0.64705884]\n",
      "   [0.6120098  0.65906864 0.6433824 ]\n",
      "   [0.6156863  0.6627451  0.64705884]]\n",
      "\n",
      "  ...\n",
      "\n",
      "  [[0.05       0.05392157 0.03431373]\n",
      "   [0.05686275 0.05882353 0.03700981]\n",
      "   [0.06593137 0.06495098 0.03651961]\n",
      "   ...\n",
      "   [0.16862746 0.15686275 0.09019608]\n",
      "   [0.17769608 0.16593137 0.0992647 ]\n",
      "   [0.18259804 0.17083333 0.09828431]]\n",
      "\n",
      "  [[0.04607843 0.05       0.03039216]\n",
      "   [0.05318628 0.05514706 0.03333334]\n",
      "   [0.06495098 0.06176471 0.03995098]\n",
      "   ...\n",
      "   [0.16495098 0.15318628 0.09240196]\n",
      "   [0.16593137 0.15416667 0.09338235]\n",
      "   [0.16887255 0.15710784 0.09632353]]\n",
      "\n",
      "  [[0.04705882 0.05098039 0.03137255]\n",
      "   [0.05196078 0.05392157 0.03137255]\n",
      "   [0.06176471 0.05784314 0.0382353 ]\n",
      "   ...\n",
      "   [0.14607844 0.13431373 0.0754902 ]\n",
      "   [0.14607844 0.13431373 0.0754902 ]\n",
      "   [0.16568628 0.15392157 0.09509804]]]\n",
      "\n",
      "\n",
      " ...\n",
      "\n",
      "\n",
      " [[[0.58431375 0.60784316 0.60784316]\n",
      "   [0.5803922  0.6039216  0.6039216 ]\n",
      "   [0.5803922  0.6039216  0.6039216 ]\n",
      "   ...\n",
      "   [0.61960787 0.65882355 0.654902  ]\n",
      "   [0.61960787 0.65882355 0.654902  ]\n",
      "   [0.62058824 0.6598039  0.65588236]]\n",
      "\n",
      "  [[0.5715686  0.6068627  0.60294116]\n",
      "   [0.5686275  0.6039216  0.6       ]\n",
      "   [0.57254905 0.60784316 0.6039216 ]\n",
      "   ...\n",
      "   [0.6186274  0.6627451  0.64705884]\n",
      "   [0.6186274  0.6627451  0.64705884]\n",
      "   [0.622549   0.6666667  0.6509804 ]]\n",
      "\n",
      "  [[0.5656863  0.6039216  0.6       ]\n",
      "   [0.5656863  0.6039216  0.6       ]\n",
      "   [0.57254905 0.6107843  0.6068627 ]\n",
      "   ...\n",
      "   [0.6127451  0.6598039  0.64411765]\n",
      "   [0.6156863  0.6627451  0.64705884]\n",
      "   [0.6164216  0.6634804  0.6477941 ]]\n",
      "\n",
      "  ...\n",
      "\n",
      "  [[0.10490196 0.09705883 0.05      ]\n",
      "   [0.10588235 0.09607843 0.05      ]\n",
      "   [0.1        0.09019608 0.04411765]\n",
      "   ...\n",
      "   [0.1247549  0.11691176 0.06004902]\n",
      "   [0.15122549 0.14338236 0.08504902]\n",
      "   [0.15784314 0.15       0.09117647]]\n",
      "\n",
      "  [[0.10563725 0.09779412 0.05073529]\n",
      "   [0.10220588 0.09240196 0.04632353]\n",
      "   [0.10416666 0.08995098 0.04607843]\n",
      "   ...\n",
      "   [0.13039216 0.13137256 0.07745098]\n",
      "   [0.15392157 0.15490197 0.09950981]\n",
      "   [0.1375     0.1384804  0.07671569]]\n",
      "\n",
      "  [[0.09901961 0.09117647 0.04411765]\n",
      "   [0.10294118 0.09313726 0.04705882]\n",
      "   [0.10882353 0.09313726 0.05      ]\n",
      "   ...\n",
      "   [0.12720588 0.13112745 0.07622549]\n",
      "   [0.13259804 0.13651961 0.08161765]\n",
      "   [0.11372549 0.11764706 0.0627451 ]]]\n",
      "\n",
      "\n",
      " [[[0.5686275  0.60784316 0.6039216 ]\n",
      "   [0.5686275  0.60784316 0.6039216 ]\n",
      "   [0.5627451  0.60784316 0.6009804 ]\n",
      "   ...\n",
      "   [0.62352943 0.6627451  0.65882355]\n",
      "   [0.62352943 0.6627451  0.65882355]\n",
      "   [0.62352943 0.6627451  0.65882355]]\n",
      "\n",
      "  [[0.5656863  0.60490197 0.6009804 ]\n",
      "   [0.5637255  0.60490197 0.6       ]\n",
      "   [0.5637255  0.6107843  0.60294116]\n",
      "   ...\n",
      "   [0.6186274  0.6627451  0.64705884]\n",
      "   [0.6186274  0.6605392  0.6514706 ]\n",
      "   [0.6215686  0.6627451  0.65588236]]\n",
      "\n",
      "  [[0.564951   0.6041667  0.6002451 ]\n",
      "   [0.5615196  0.6071078  0.6       ]\n",
      "   [0.5637255  0.6107843  0.60294116]\n",
      "   ...\n",
      "   [0.6117647  0.65882355 0.6431373 ]\n",
      "   [0.6154412  0.6625     0.64681375]\n",
      "   [0.6156863  0.6627451  0.64705884]]\n",
      "\n",
      "  ...\n",
      "\n",
      "  [[0.09338235 0.08553921 0.03848039]\n",
      "   [0.08995098 0.08210784 0.03504902]\n",
      "   [0.0870098  0.07916667 0.03210784]\n",
      "   ...\n",
      "   [0.15171568 0.14387254 0.0870098 ]\n",
      "   [0.13039216 0.12254902 0.06568628]\n",
      "   [0.12965687 0.12181372 0.06495098]]\n",
      "\n",
      "  [[0.08210784 0.07132353 0.03308824]\n",
      "   [0.07941177 0.07156863 0.0245098 ]\n",
      "   [0.08161765 0.07377451 0.02671569]\n",
      "   ...\n",
      "   [0.14191176 0.14068627 0.08308823]\n",
      "   [0.10857843 0.10073529 0.0497549 ]\n",
      "   [0.11078431 0.10294118 0.05196078]]\n",
      "\n",
      "  [[0.08333334 0.07156863 0.03627451]\n",
      "   [0.08529412 0.07450981 0.03627451]\n",
      "   [0.08529412 0.07745098 0.03039216]\n",
      "   ...\n",
      "   [0.12230392 0.12328431 0.06348039]\n",
      "   [0.08210784 0.07426471 0.02328431]\n",
      "   [0.08848039 0.08063725 0.02965686]]]\n",
      "\n",
      "\n",
      " [[[0.5764706  0.6117647  0.60784316]\n",
      "   [0.5686275  0.6039216  0.6       ]\n",
      "   [0.5595588  0.5977941  0.59387255]\n",
      "   ...\n",
      "   [0.61960787 0.6627451  0.64705884]\n",
      "   [0.622549   0.66568625 0.65      ]\n",
      "   [0.62352943 0.6627451  0.65882355]]\n",
      "\n",
      "  [[0.57254905 0.60784316 0.6039216 ]\n",
      "   [0.5686275  0.6039216  0.6       ]\n",
      "   [0.5627451  0.6009804  0.59705883]\n",
      "   ...\n",
      "   [0.6186274  0.6627451  0.64705884]\n",
      "   [0.6223039  0.6664216  0.6507353 ]\n",
      "   [0.622549   0.6666667  0.6509804 ]]\n",
      "\n",
      "  [[0.57254905 0.60784316 0.6039216 ]\n",
      "   [0.57254905 0.60784316 0.6039216 ]\n",
      "   [0.56960785 0.60784316 0.6039216 ]\n",
      "   ...\n",
      "   [0.6127451  0.6598039  0.64411765]\n",
      "   [0.6156863  0.6627451  0.64705884]\n",
      "   [0.6156863  0.6627451  0.64705884]]\n",
      "\n",
      "  ...\n",
      "\n",
      "  [[0.1115196  0.09583333 0.05269608]\n",
      "   [0.10196079 0.0882353  0.04411765]\n",
      "   [0.09803922 0.09019608 0.04313726]\n",
      "   ...\n",
      "   [0.12769608 0.11985294 0.0629902 ]\n",
      "   [0.15416667 0.14632353 0.08799019]\n",
      "   [0.16764706 0.15686275 0.09803922]]\n",
      "\n",
      "  [[0.10073529 0.09093137 0.04485294]\n",
      "   [0.10122549 0.09044117 0.04485294]\n",
      "   [0.09803922 0.08431373 0.04019608]\n",
      "   ...\n",
      "   [0.11470588 0.11568628 0.06176471]\n",
      "   [0.12622549 0.12720588 0.07181372]\n",
      "   [0.14411765 0.13627452 0.08333334]]\n",
      "\n",
      "  [[0.09901961 0.09117647 0.04411765]\n",
      "   [0.10294118 0.09313726 0.04705882]\n",
      "   [0.10294118 0.0872549  0.04411765]\n",
      "   ...\n",
      "   [0.10882353 0.10980392 0.06078431]\n",
      "   [0.10931373 0.11323529 0.05833333]\n",
      "   [0.14509805 0.14901961 0.09411765]]]]\n",
      "positive/negative samples (16): [[[[0.5568628  0.5921569  0.5882353 ]\n",
      "   [0.5539216  0.5892157  0.5852941 ]\n",
      "   [0.5539216  0.5892157  0.57941175]\n",
      "   ...\n",
      "   [0.6017157  0.6487745  0.6487745 ]\n",
      "   [0.6039216  0.6509804  0.6509804 ]\n",
      "   [0.6039216  0.6509804  0.6509804 ]]\n",
      "\n",
      "  [[0.55514705 0.59142154 0.5875    ]\n",
      "   [0.55588233 0.5921569  0.5882353 ]\n",
      "   [0.55588233 0.5921569  0.5882353 ]\n",
      "   ...\n",
      "   [0.6039216  0.6509804  0.6509804 ]\n",
      "   [0.6039216  0.6509804  0.6509804 ]\n",
      "   [0.60490197 0.6519608  0.6519608 ]]\n",
      "\n",
      "  [[0.54632354 0.59142154 0.58455884]\n",
      "   [0.5477941  0.59289217 0.5860294 ]\n",
      "   [0.5470588  0.5921569  0.5852941 ]\n",
      "   ...\n",
      "   [0.6009804  0.6480392  0.6480392 ]\n",
      "   [0.60318625 0.6502451  0.6502451 ]\n",
      "   [0.6039216  0.6509804  0.6509804 ]]\n",
      "\n",
      "  ...\n",
      "\n",
      "  [[0.09583333 0.09583333 0.04877451]\n",
      "   [0.10098039 0.10098039 0.05588235]\n",
      "   [0.0992647  0.0992647  0.06004902]\n",
      "   ...\n",
      "   [0.15       0.14215687 0.08333334]\n",
      "   [0.16568628 0.15784314 0.09901961]\n",
      "   [0.17352942 0.16960785 0.09901961]]\n",
      "\n",
      "  [[0.09779412 0.09779412 0.05073529]\n",
      "   [0.10220588 0.10220588 0.05710784]\n",
      "   [0.09534314 0.09534314 0.05612745]\n",
      "   ...\n",
      "   [0.15980393 0.15196079 0.09313726]\n",
      "   [0.16740195 0.15955882 0.10073529]\n",
      "   [0.17279412 0.16887255 0.09828431]]\n",
      "\n",
      "  [[0.09803922 0.09803922 0.05098039]\n",
      "   [0.09803922 0.09803922 0.05294118]\n",
      "   [0.09411765 0.09411765 0.05490196]\n",
      "   ...\n",
      "   [0.15784314 0.15       0.09117647]\n",
      "   [0.1615196  0.15367647 0.09485294]\n",
      "   [0.16862746 0.16470589 0.09411765]]]\n",
      "\n",
      "\n",
      " [[[0.5529412  0.5921569  0.5882353 ]\n",
      "   [0.5529412  0.5921569  0.5882353 ]\n",
      "   [0.5507353  0.59289217 0.5801471 ]\n",
      "   ...\n",
      "   [0.60490197 0.6519608  0.6519608 ]\n",
      "   [0.6041667  0.6512255  0.6512255 ]\n",
      "   [0.6017157  0.6487745  0.6487745 ]]\n",
      "\n",
      "  [[0.55196077 0.59117645 0.5872549 ]\n",
      "   [0.55220586 0.59142154 0.5875    ]\n",
      "   [0.5529412  0.5921569  0.5882353 ]\n",
      "   ...\n",
      "   [0.6039216  0.6509804  0.6509804 ]\n",
      "   [0.6041667  0.6512255  0.6512255 ]\n",
      "   [0.6039216  0.6509804  0.6509804 ]]\n",
      "\n",
      "  [[0.5480392  0.5872549  0.5833333 ]\n",
      "   [0.5482843  0.5875     0.5835784 ]\n",
      "   [0.5497549  0.5889706  0.58504903]\n",
      "   ...\n",
      "   [0.6009804  0.6480392  0.6480392 ]\n",
      "   [0.6046569  0.6517157  0.6517157 ]\n",
      "   [0.6022059  0.6492647  0.6492647 ]]\n",
      "\n",
      "  ...\n",
      "\n",
      "  [[0.03897059 0.03504902 0.01544118]\n",
      "   [0.06176471 0.05857843 0.03676471]\n",
      "   [0.07745098 0.07720588 0.04656863]\n",
      "   ...\n",
      "   [0.12156863 0.11666667 0.05882353]\n",
      "   [0.11862745 0.11372549 0.05588235]\n",
      "   [0.11078431 0.10588235 0.04803922]]\n",
      "\n",
      "  [[0.04019608 0.04215686 0.02254902]\n",
      "   [0.06372549 0.05980392 0.04240196]\n",
      "   [0.07426471 0.07328431 0.04485294]\n",
      "   ...\n",
      "   [0.11078431 0.11470588 0.05980392]\n",
      "   [0.11299019 0.11691176 0.0620098 ]\n",
      "   [0.10490196 0.10882353 0.05392157]]\n",
      "\n",
      "  [[0.05196078 0.05588235 0.03627451]\n",
      "   [0.06960785 0.07156863 0.05196078]\n",
      "   [0.07720588 0.07622549 0.04779412]\n",
      "   ...\n",
      "   [0.10367647 0.10759804 0.05269608]\n",
      "   [0.09240196 0.09632353 0.04142157]\n",
      "   [0.09803922 0.10196079 0.04705882]]]\n",
      "\n",
      "\n",
      " [[[0.15857843 0.08406863 0.06838235]\n",
      "   [0.13063726 0.05220588 0.02867647]\n",
      "   [0.1625     0.05857843 0.02671569]\n",
      "   ...\n",
      "   [0.09044117 0.04607843 0.00955882]\n",
      "   [0.09779412 0.04901961 0.01691177]\n",
      "   [0.09754902 0.04803922 0.0245098 ]]\n",
      "\n",
      "  [[0.2017157  0.12720588 0.10514706]\n",
      "   [0.13308823 0.05465686 0.02622549]\n",
      "   [0.15882353 0.05490196 0.02156863]\n",
      "   ...\n",
      "   [0.07156863 0.04485294 0.00955882]\n",
      "   [0.0882353  0.05686275 0.02965686]\n",
      "   [0.0870098  0.05563726 0.02843137]]\n",
      "\n",
      "  [[0.30759802 0.23308824 0.20661765]\n",
      "   [0.15637255 0.07794118 0.0495098 ]\n",
      "   [0.15955882 0.05661765 0.02034314]\n",
      "   ...\n",
      "   [0.05980392 0.04607843 0.0254902 ]\n",
      "   [0.05588235 0.04215686 0.02156863]\n",
      "   [0.0627451  0.04901961 0.02843137]]\n",
      "\n",
      "  ...\n",
      "\n",
      "  [[0.26764706 0.2127451  0.20882353]\n",
      "   [0.27328432 0.21838236 0.21446079]\n",
      "   [0.2754902  0.22058824 0.21666667]\n",
      "   ...\n",
      "   [0.08137255 0.05784314 0.06764706]\n",
      "   [0.08357843 0.05710784 0.08161765]\n",
      "   [0.0872549  0.05980392 0.09117647]]\n",
      "\n",
      "  [[0.27745098 0.22254902 0.21862745]\n",
      "   [0.28210783 0.22720589 0.22328432]\n",
      "   [0.28357843 0.22867647 0.2247549 ]\n",
      "   ...\n",
      "   [0.07352941 0.05       0.05980392]\n",
      "   [0.06985294 0.04338235 0.06789216]\n",
      "   [0.08553921 0.05808824 0.08946078]]\n",
      "\n",
      "  [[0.2882353  0.23333333 0.22941177]\n",
      "   [0.29215688 0.2372549  0.23333333]\n",
      "   [0.2990196  0.24411765 0.24019608]\n",
      "   ...\n",
      "   [0.08529412 0.06176471 0.06568628]\n",
      "   [0.07843138 0.05196078 0.07647059]\n",
      "   [0.09019608 0.06102941 0.09754902]]]\n",
      "\n",
      "\n",
      " ...\n",
      "\n",
      "\n",
      " [[[0.         0.00196078 0.00098039]\n",
      "   [0.         0.00098039 0.        ]\n",
      "   [0.         0.00098039 0.        ]\n",
      "   ...\n",
      "   [0.00367647 0.00367647 0.        ]\n",
      "   [0.00294118 0.00294118 0.        ]\n",
      "   [0.00661765 0.00661765 0.00661765]]\n",
      "\n",
      "  [[0.03235294 0.00980392 0.00392157]\n",
      "   [0.03088235 0.00882353 0.00269608]\n",
      "   [0.02794118 0.00882353 0.00122549]\n",
      "   ...\n",
      "   [0.08088236 0.08676471 0.07696079]\n",
      "   [0.07818627 0.08333334 0.075     ]\n",
      "   [0.07843138 0.08627451 0.07745098]]\n",
      "\n",
      "  [[0.16862746 0.10465686 0.06838235]\n",
      "   [0.16176471 0.09901961 0.0625    ]\n",
      "   [0.14705883 0.09607843 0.05906863]\n",
      "   ...\n",
      "   [0.8843137  0.904902   0.8686274 ]\n",
      "   [0.87083334 0.88848037 0.8602941 ]\n",
      "   [0.9026961  0.9223039  0.8958333 ]]\n",
      "\n",
      "  ...\n",
      "\n",
      "  [[0.03970588 0.05931373 0.03186275]\n",
      "   [0.02647059 0.04607843 0.01862745]\n",
      "   [0.025      0.04460784 0.01715686]\n",
      "   ...\n",
      "   [0.0754902  0.07941177 0.05588235]\n",
      "   [0.08897059 0.09289216 0.06936274]\n",
      "   [0.09411765 0.09803922 0.07450981]]\n",
      "\n",
      "  [[0.03602941 0.05563726 0.02818627]\n",
      "   [0.03480392 0.05441177 0.02696078]\n",
      "   [0.0254902  0.04509804 0.01764706]\n",
      "   ...\n",
      "   [0.08161765 0.08553921 0.0620098 ]\n",
      "   [0.08308823 0.0870098  0.06348039]\n",
      "   [0.09411765 0.09803922 0.07450981]]\n",
      "\n",
      "  [[0.04387255 0.06348039 0.03602941]\n",
      "   [0.03627451 0.05588235 0.02843137]\n",
      "   [0.03235294 0.05196078 0.0245098 ]\n",
      "   ...\n",
      "   [0.08529412 0.08921569 0.06568628]\n",
      "   [0.08137255 0.08529412 0.06176471]\n",
      "   [0.09019608 0.09411765 0.07058824]]]\n",
      "\n",
      "\n",
      " [[[0.5617647  0.6009804  0.60490197]\n",
      "   [0.56078434 0.6        0.6039216 ]\n",
      "   [0.56397057 0.60318625 0.6071078 ]\n",
      "   ...\n",
      "   [0.61715686 0.6642157  0.6642157 ]\n",
      "   [0.62034315 0.66740197 0.66740197]\n",
      "   [0.62058824 0.66764706 0.66764706]]\n",
      "\n",
      "  [[0.5617647  0.60294116 0.60588235]\n",
      "   [0.5588235  0.6        0.60294116]\n",
      "   [0.5598039  0.6009804  0.6039216 ]\n",
      "   ...\n",
      "   [0.6156863  0.6627451  0.6627451 ]\n",
      "   [0.61960787 0.6666667  0.6666667 ]\n",
      "   [0.61960787 0.6666667  0.6666667 ]]\n",
      "\n",
      "  [[0.5588235  0.60588235 0.60588235]\n",
      "   [0.5598039  0.6068627  0.6068627 ]\n",
      "   [0.56764704 0.61470586 0.61470586]\n",
      "   ...\n",
      "   [0.6127451  0.6598039  0.6598039 ]\n",
      "   [0.6164216  0.6634804  0.6634804 ]\n",
      "   [0.6166667  0.6637255  0.6637255 ]]\n",
      "\n",
      "  ...\n",
      "\n",
      "  [[0.09215686 0.09215686 0.05294118]\n",
      "   [0.08627451 0.08627451 0.04705882]\n",
      "   [0.08406863 0.08406863 0.04485294]\n",
      "   ...\n",
      "   [0.09877451 0.1125     0.05857843]\n",
      "   [0.09411765 0.10196079 0.05098039]\n",
      "   [0.0872549  0.09509804 0.04411765]]\n",
      "\n",
      "  [[0.09509804 0.08627451 0.05      ]\n",
      "   [0.08333334 0.07450981 0.0382353 ]\n",
      "   [0.09142157 0.08259804 0.04632353]\n",
      "   ...\n",
      "   [0.10588235 0.11960784 0.06568628]\n",
      "   [0.09803922 0.10588235 0.05490196]\n",
      "   [0.09117647 0.09901961 0.04803922]]\n",
      "\n",
      "  [[0.09117647 0.08333334 0.03627451]\n",
      "   [0.07843138 0.07058824 0.02352941]\n",
      "   [0.08137255 0.07058824 0.03235294]\n",
      "   ...\n",
      "   [0.11078431 0.1245098  0.07058824]\n",
      "   [0.10294118 0.11078431 0.05980392]\n",
      "   [0.09019608 0.09803922 0.04705882]]]\n",
      "\n",
      "\n",
      " [[[0.3362745  0.32843137 0.34019607]\n",
      "   [0.34779412 0.33995098 0.35171568]\n",
      "   [0.35759804 0.3497549  0.3615196 ]\n",
      "   ...\n",
      "   [0.39607844 0.37254903 0.37254903]\n",
      "   [0.4002451  0.3767157  0.3767157 ]\n",
      "   [0.4002451  0.3767157  0.3767157 ]]\n",
      "\n",
      "  [[0.34632352 0.33848038 0.3502451 ]\n",
      "   [0.34509805 0.3372549  0.34901962]\n",
      "   [0.3512255  0.34338236 0.35514706]\n",
      "   ...\n",
      "   [0.38897058 0.36544117 0.36544117]\n",
      "   [0.40661764 0.38308823 0.38308823]\n",
      "   [0.40122548 0.37769607 0.37769607]]\n",
      "\n",
      "  [[0.34632352 0.33848038 0.3502451 ]\n",
      "   [0.34583333 0.3379902  0.3497549 ]\n",
      "   [0.34509805 0.3372549  0.34901962]\n",
      "   ...\n",
      "   [0.40931374 0.38578433 0.38578433]\n",
      "   [0.41789216 0.39436275 0.39436275]\n",
      "   [0.422549   0.3990196  0.3990196 ]]\n",
      "\n",
      "  ...\n",
      "\n",
      "  [[0.8237745  0.8237745  0.7767157 ]\n",
      "   [0.8370098  0.8387255  0.7882353 ]\n",
      "   [0.88186276 0.8857843  0.8308824 ]\n",
      "   ...\n",
      "   [0.41813725 0.41127452 0.31715685]\n",
      "   [0.3620098  0.38063726 0.2992647 ]\n",
      "   [0.27132353 0.3095588  0.23406863]]\n",
      "\n",
      "  [[0.8151961  0.8181372  0.7651961 ]\n",
      "   [0.8477941  0.8517157  0.7968137 ]\n",
      "   [0.89362746 0.89754903 0.8426471 ]\n",
      "   ...\n",
      "   [0.19705883 0.1879902  0.11078431]\n",
      "   [0.29509804 0.30294117 0.24117647]\n",
      "   [0.29215688 0.325      0.26421568]]\n",
      "\n",
      "  [[0.8254902  0.82941175 0.7745098 ]\n",
      "   [0.8833333  0.8872549  0.83235294]\n",
      "   [0.85882354 0.8627451  0.80196077]\n",
      "   ...\n",
      "   [0.16568628 0.15220588 0.09950981]\n",
      "   [0.15490197 0.15784314 0.12598039]\n",
      "   [0.10980392 0.13137256 0.10392157]]]]\n",
      "labels (16): [1. 1. 0. 1. 0. 1. 1. 1. 1. 1. 0. 1. 1. 0. 1. 0.]\n"
     ]
    }
   ],
   "source": [
    "print(f'anchors ({len(batch[0])}):', batch[0])\n",
    "print(f'positive/negative samples ({len(batch[1])}):', batch[1])\n",
    "print(f'labels ({len(batch[2])}):', batch[2])"
   ]
  },
  {
   "attachments": {},
   "cell_type": "markdown",
   "metadata": {},
   "source": [
    "This is the value of the `X` aka. `features`. <br/>\n",
    "Each batch in the dataset is comprised of 16 samples each of which contains an anchor image, positive or negative image and a label.\n",
    "\n",
    "`(2, 16, 100, 100, 3)` is the representation of:\n",
    "* `2` - components(datasets)\n",
    "* `16` - samples in each component\n",
    "* `100, 100, 3` - is the shpae of each sample (the image -> 2d array with an array of 3 colors init RGB)  "
   ]
  },
  {
   "cell_type": "code",
   "execution_count": 75,
   "metadata": {},
   "outputs": [
    {
     "data": {
      "text/plain": [
       "(2, 16, 100, 100, 3)"
      ]
     },
     "execution_count": 75,
     "metadata": {},
     "output_type": "execute_result"
    }
   ],
   "source": [
    "np.array(batch[:2]).shape"
   ]
  },
  {
   "attachments": {},
   "cell_type": "markdown",
   "metadata": {},
   "source": [
    "This is the `y` aka. `labels`."
   ]
  },
  {
   "cell_type": "code",
   "execution_count": 78,
   "metadata": {},
   "outputs": [
    {
     "data": {
      "text/plain": [
       "array([0., 1., 1., 1., 1., 0., 0., 1., 0., 0., 1., 1., 1., 1., 1., 1.],\n",
       "      dtype=float32)"
      ]
     },
     "execution_count": 78,
     "metadata": {},
     "output_type": "execute_result"
    }
   ],
   "source": [
    "batch[2]"
   ]
  },
  {
   "attachments": {},
   "cell_type": "markdown",
   "metadata": {},
   "source": [
    "#### Build the training step"
   ]
  },
  {
   "attachments": {},
   "cell_type": "markdown",
   "metadata": {},
   "source": [
    "`train_step()` function used to define the training loop of specifc batch.\n",
    "\n",
    "*For your knowledge:\n",
    "The optimizer here is calculating and propagating the new wieghts using Adam's optimization, a varient of gradient descent*"
   ]
  },
  {
   "cell_type": "code",
   "execution_count": 80,
   "metadata": {},
   "outputs": [],
   "source": [
    "@tf.function\n",
    "def train_step(batch: NumpyArrayIterator) -> BinaryCrossentropy:\n",
    "    # Capturing all the functions in the training process (for the backpropagation)\n",
    "    with tf.GradientTape() as tape:\n",
    "        # Get anchor and positive/negative image\n",
    "        X = batch[:2] # `X` the convention for the features (source data)\n",
    "        y = batch[2] # `y` is the convention for label (tag / real result)\n",
    "\n",
    "        # Forward pass\n",
    "        # It's very important to set the Training parameter to True for enabling specific layers in the neural network\n",
    "        y_hat = siamese_model(X, training=True)\n",
    "        \n",
    "        # Calculating loss\n",
    "        # `y_hat` is convention for the prediction of y the model has predicted\n",
    "        loss: BinaryCrossentropy = binary_cross_loss(y, y_hat)\n",
    "\n",
    "    # Calculate gradients (for specific values of the weights)\n",
    "    grad = tape.gradient(loss, siamese_model.trainable_variables)\n",
    "\n",
    "    # Calculate updated wieghts and apply to siamese model -> Applying the changes into the model\n",
    "    opt.apply_gradients(zip(grad, siamese_model.trainable_variables))\n",
    "    return loss"
   ]
  },
  {
   "attachments": {},
   "cell_type": "markdown",
   "metadata": {},
   "source": [
    "#### Build training loop"
   ]
  },
  {
   "attachments": {},
   "cell_type": "markdown",
   "metadata": {},
   "source": [
    "This `train()` function will contain the training logic of all the batches in the dataset"
   ]
  },
  {
   "cell_type": "code",
   "execution_count": 81,
   "metadata": {},
   "outputs": [],
   "source": [
    "# TODO: Fix progress bar problem in notebook\n",
    "def train(data: tf.data.Dataset, EPOCHS):\n",
    "    # Loop through epochs\n",
    "    for epoch in range(1, EPOCHS + 1):\n",
    "        print(f'Epoch {epoch}/{EPOCHS}')\n",
    "        progbar = Progbar(len(data))\n",
    "\n",
    "    # Loop through each batch\n",
    "    for idx, batch in enumerate(data):\n",
    "        # Run train step here\n",
    "        train_step(batch)\n",
    "        progbar.update(idx + 1)\n",
    "\n",
    "    # Save checkpoints\n",
    "    if epoch % 10 == 0:\n",
    "        checkpoint.save(file_prefix=checkpoint_prefix)"
   ]
  },
  {
   "attachments": {},
   "cell_type": "markdown",
   "metadata": {},
   "source": [
    "### Model training"
   ]
  },
  {
   "cell_type": "code",
   "execution_count": 84,
   "metadata": {},
   "outputs": [
    {
     "name": "stdout",
     "output_type": "stream",
     "text": [
      "Epoch 1/50\n",
      "Epoch 2/50\n",
      "Epoch 3/50\n",
      "Epoch 4/50\n",
      "Epoch 5/50\n",
      "Epoch 6/50\n",
      "Epoch 7/50\n",
      "Epoch 8/50\n",
      "Epoch 9/50\n",
      "Epoch 10/50\n",
      "Epoch 11/50\n",
      "Epoch 12/50\n",
      "Epoch 13/50\n",
      "Epoch 14/50\n",
      "Epoch 15/50\n",
      "Epoch 16/50\n",
      "Epoch 17/50\n",
      "Epoch 18/50\n",
      "Epoch 19/50\n",
      "Epoch 20/50\n",
      "Epoch 21/50\n",
      "Epoch 22/50\n",
      "Epoch 23/50\n",
      "Epoch 24/50\n",
      "Epoch 25/50\n",
      "Epoch 26/50\n",
      "Epoch 27/50\n",
      "Epoch 28/50\n",
      "Epoch 29/50\n",
      "Epoch 30/50\n",
      "Epoch 31/50\n",
      "Epoch 32/50\n",
      "Epoch 33/50\n",
      "Epoch 34/50\n",
      "Epoch 35/50\n",
      "Epoch 36/50\n",
      "Epoch 37/50\n",
      "Epoch 38/50\n",
      "Epoch 39/50\n",
      "Epoch 40/50\n",
      "Epoch 41/50\n",
      "Epoch 42/50\n",
      "Epoch 43/50\n",
      "Epoch 44/50\n",
      "Epoch 45/50\n",
      "Epoch 46/50\n",
      "Epoch 47/50\n",
      "Epoch 48/50\n",
      "Epoch 49/50\n",
      "Epoch 50/50\n",
      "15/15 [==============================] - 456s 30s/step\n"
     ]
    }
   ],
   "source": [
    "EPOCHS: Final[int] = 50\n",
    "train(training_data, EPOCHS)"
   ]
  },
  {
   "attachments": {},
   "cell_type": "markdown",
   "metadata": {},
   "source": [
    "## Evalueate Model"
   ]
  },
  {
   "attachments": {},
   "cell_type": "markdown",
   "metadata": {},
   "source": [
    "Let's check how the model we just created is performing"
   ]
  },
  {
   "cell_type": "code",
   "execution_count": 94,
   "metadata": {},
   "outputs": [],
   "source": [
    "# Import metrics from keras\n",
    "from keras.metrics import Precision, Recall"
   ]
  },
  {
   "attachments": {},
   "cell_type": "markdown",
   "metadata": {},
   "source": [
    "So what these metrics does? \n",
    "\n",
    "Precision - Demonstrates what proportion of positive identification were actually correct. <br />\n",
    "Recall - Shows what proprtion of actual positives were identified correctly."
   ]
  },
  {
   "cell_type": "code",
   "execution_count": 97,
   "metadata": {},
   "outputs": [
    {
     "data": {
      "text/plain": [
       "array([1., 0., 1., 1., 1., 1., 1., 1., 1., 1., 0., 0., 0., 0., 1., 1.],\n",
       "      dtype=float32)"
      ]
     },
     "execution_count": 97,
     "metadata": {},
     "output_type": "execute_result"
    }
   ],
   "source": [
    "# Get a batch of test data\n",
    "test_input, test_val, y_true = test_data.as_numpy_iterator().next()\n",
    "y_true"
   ]
  },
  {
   "cell_type": "code",
   "execution_count": 98,
   "metadata": {},
   "outputs": [
    {
     "name": "stdout",
     "output_type": "stream",
     "text": [
      "1/1 [==============================] - 8s 8s/step\n"
     ]
    },
    {
     "data": {
      "text/plain": [
       "array([[0.43873072],\n",
       "       [0.01517574],\n",
       "       [0.45266935],\n",
       "       [0.49529168],\n",
       "       [0.47814518],\n",
       "       [0.41730887],\n",
       "       [0.5525825 ],\n",
       "       [0.513204  ],\n",
       "       [0.49933162],\n",
       "       [0.50182205],\n",
       "       [0.01634792],\n",
       "       [0.01739268],\n",
       "       [0.02324088],\n",
       "       [0.19949786],\n",
       "       [0.41558477],\n",
       "       [0.43689916]], dtype=float32)"
      ]
     },
     "execution_count": 98,
     "metadata": {},
     "output_type": "execute_result"
    }
   ],
   "source": [
    "# Making some predicitions\n",
    "y_hat = siamese_model.predict([test_input, test_val])\n",
    "y_hat"
   ]
  },
  {
   "attachments": {},
   "cell_type": "markdown",
   "metadata": {},
   "source": [
    "### Post processing results"
   ]
  },
  {
   "attachments": {},
   "cell_type": "markdown",
   "metadata": {},
   "source": [
    "This is the way to create an array in python's way."
   ]
  },
  {
   "cell_type": "code",
   "execution_count": 91,
   "metadata": {},
   "outputs": [
    {
     "data": {
      "text/plain": [
       "[1, 1, 0, 1, 0, 1, 0, 0, 0, 1, 1, 1, 1, 0, 0, 1]"
      ]
     },
     "execution_count": 91,
     "metadata": {},
     "output_type": "execute_result"
    }
   ],
   "source": [
    "[1 if predictions > 0.4 else 0 for predictions in y_hat]"
   ]
  },
  {
   "attachments": {},
   "cell_type": "markdown",
   "metadata": {},
   "source": [
    "#### Code snippet"
   ]
  },
  {
   "attachments": {},
   "cell_type": "markdown",
   "metadata": {},
   "source": [
    "The code generally looks like this:"
   ]
  },
  {
   "cell_type": "code",
   "execution_count": null,
   "metadata": {},
   "outputs": [],
   "source": [
    "res = []\n",
    "for predictions in y_hat:\n",
    "    if predictions > 0.4:\n",
    "        res.append(1)\n",
    "    else:\n",
    "        res.append(0)"
   ]
  },
  {
   "attachments": {},
   "cell_type": "markdown",
   "metadata": {},
   "source": [
    "#### Or just use the metrics "
   ]
  },
  {
   "cell_type": "code",
   "execution_count": 99,
   "metadata": {},
   "outputs": [
    {
     "data": {
      "text/plain": [
       "0.27272728"
      ]
     },
     "execution_count": 99,
     "metadata": {},
     "output_type": "execute_result"
    }
   ],
   "source": [
    "# Creating the metric object\n",
    "m = Recall()\n",
    "m.update_state(y_true, y_hat) # Calculating recall value\n",
    "m.result().numpy()"
   ]
  },
  {
   "cell_type": "code",
   "execution_count": 100,
   "metadata": {},
   "outputs": [
    {
     "data": {
      "text/plain": [
       "1.0"
      ]
     },
     "execution_count": 100,
     "metadata": {},
     "output_type": "execute_result"
    }
   ],
   "source": [
    "m = Precision()\n",
    "m.update_state(y_true, y_hat) # Calculating the precision value\n",
    "m.result().numpy()"
   ]
  },
  {
   "attachments": {},
   "cell_type": "markdown",
   "metadata": {},
   "source": [
    "### Visualize the results"
   ]
  },
  {
   "attachments": {},
   "cell_type": "markdown",
   "metadata": {},
   "source": [
    "You can look at the predictions [post processing results](#Post-processing-results) section array, and change the test samples you want to see in the plot below"
   ]
  },
  {
   "cell_type": "code",
   "execution_count": null,
   "metadata": {},
   "outputs": [],
   "source": [
    "TEST_SAMPLE_INDEX: Final[int] = 1\n",
    "\n",
    "fig, (ax1, ax2) = plt.subplots(1, 2, figsize=(18, 8))\n",
    "fig.suptitle('Test anchor and Test validation')\n",
    "\n",
    "ax1.imshow(test_input[TEST_SAMPLE_INDEX]) # Index of test sample\n",
    "ax1.set_title('Test input')\n",
    "ax2.imshow(test_val[TEST_SAMPLE_INDEX]) # Index of test sample\n",
    "ax2.set_title('Test validation')\n",
    "plt.show()"
   ]
  }
 ],
 "metadata": {
  "kernelspec": {
   "display_name": "venv",
   "language": "python",
   "name": "python3"
  },
  "language_info": {
   "codemirror_mode": {
    "name": "ipython",
    "version": 3
   },
   "file_extension": ".py",
   "mimetype": "text/x-python",
   "name": "python",
   "nbconvert_exporter": "python",
   "pygments_lexer": "ipython3",
   "version": "3.10.9"
  },
  "orig_nbformat": 4,
  "vscode": {
   "interpreter": {
    "hash": "7bb6876993b2b103376e027649eaab835bc81729f875a1d0f5f440f0228b14c5"
   }
  }
 },
 "nbformat": 4,
 "nbformat_minor": 2
}
