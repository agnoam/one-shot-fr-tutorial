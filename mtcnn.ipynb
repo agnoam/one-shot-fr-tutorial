{
 "cells": [
  {
   "cell_type": "code",
   "execution_count": 1,
   "metadata": {},
   "outputs": [],
   "source": [
    "from mtcnn import MTCNN\n",
    "import cv2"
   ]
  },
  {
   "cell_type": "code",
   "execution_count": 3,
   "metadata": {},
   "outputs": [
    {
     "name": "stdout",
     "output_type": "stream",
     "text": [
      "1/1 [==============================] - 0s 240ms/step\n",
      "WARNING:tensorflow:5 out of the last 19 calls to <function Model.make_predict_function.<locals>.predict_function at 0x000001E8406740D0> triggered tf.function retracing. Tracing is expensive and the excessive number of tracings could be due to (1) creating @tf.function repeatedly in a loop, (2) passing tensors with different shapes, (3) passing Python objects instead of tensors. For (1), please define your @tf.function outside of the loop. For (2), @tf.function has reduce_retracing=True option that can avoid unnecessary retracing. For (3), please refer to https://www.tensorflow.org/guide/function#controlling_retracing and https://www.tensorflow.org/api_docs/python/tf/function for  more details.\n",
      "1/1 [==============================] - 0s 224ms/step\n",
      "1/1 [==============================] - 0s 74ms/step\n",
      "1/1 [==============================] - 0s 47ms/step\n",
      "1/1 [==============================] - 0s 41ms/step\n",
      "1/1 [==============================] - 0s 38ms/step\n",
      "1/1 [==============================] - 0s 42ms/step\n",
      "1/1 [==============================] - 0s 38ms/step\n",
      "1/1 [==============================] - 0s 38ms/step\n",
      "1/1 [==============================] - 0s 36ms/step\n",
      "1/1 [==============================] - 0s 37ms/step\n",
      "6/6 [==============================] - 0s 8ms/step\n",
      "1/1 [==============================] - 0s 260ms/step\n",
      "done in: 2.6150550842285156\n"
     ]
    }
   ],
   "source": [
    "import time\n",
    "\n",
    "img = cv2.cvtColor(cv2.imread('test.jpg'), cv2.COLOR_BGR2RGB)\n",
    "detector = MTCNN()\n",
    "\n",
    "start = time.time()\n",
    "faces_list: list = detector.detect_faces(img)\n",
    "print('done in:', time.time() - start)"
   ]
  },
  {
   "cell_type": "code",
   "execution_count": 4,
   "metadata": {},
   "outputs": [
    {
     "data": {
      "text/plain": [
       "[{'box': [280, 169, 203, 262],\n",
       "  'confidence': 0.9999982118606567,\n",
       "  'keypoints': {'left_eye': (328, 278),\n",
       "   'right_eye': (421, 273),\n",
       "   'nose': (369, 331),\n",
       "   'mouth_left': (331, 361),\n",
       "   'mouth_right': (429, 358)}},\n",
       " {'box': [623, 338, 85, 112],\n",
       "  'confidence': 0.9999942779541016,\n",
       "  'keypoints': {'left_eye': (648, 380),\n",
       "   'right_eye': (688, 381),\n",
       "   'nose': (669, 402),\n",
       "   'mouth_left': (652, 424),\n",
       "   'mouth_right': (684, 425)}},\n",
       " {'box': [767, 257, 57, 71],\n",
       "  'confidence': 0.9996809959411621,\n",
       "  'keypoints': {'left_eye': (780, 287),\n",
       "   'right_eye': (806, 279),\n",
       "   'nose': (795, 299),\n",
       "   'mouth_left': (789, 312),\n",
       "   'mouth_right': (813, 305)}},\n",
       " {'box': [888, 350, 178, 204],\n",
       "  'confidence': 0.9969424605369568,\n",
       "  'keypoints': {'left_eye': (931, 447),\n",
       "   'right_eye': (1001, 414),\n",
       "   'nose': (976, 478),\n",
       "   'mouth_left': (965, 512),\n",
       "   'mouth_right': (1033, 482)}}]"
      ]
     },
     "execution_count": 4,
     "metadata": {},
     "output_type": "execute_result"
    }
   ],
   "source": [
    "faces_list"
   ]
  }
 ],
 "metadata": {
  "kernelspec": {
   "display_name": "venv",
   "language": "python",
   "name": "python3"
  },
  "language_info": {
   "codemirror_mode": {
    "name": "ipython",
    "version": 3
   },
   "file_extension": ".py",
   "mimetype": "text/x-python",
   "name": "python",
   "nbconvert_exporter": "python",
   "pygments_lexer": "ipython3",
   "version": "3.10.9"
  },
  "orig_nbformat": 4,
  "vscode": {
   "interpreter": {
    "hash": "7bb6876993b2b103376e027649eaab835bc81729f875a1d0f5f440f0228b14c5"
   }
  }
 },
 "nbformat": 4,
 "nbformat_minor": 2
}
